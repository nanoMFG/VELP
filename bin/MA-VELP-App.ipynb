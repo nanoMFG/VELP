{
 "cells": [
  {
   "cell_type": "markdown",
   "metadata": {},
   "source": [
    "## MA-VELP: Machine-Learning Assisted Virtual Exfoliation via Liquid Phase"
   ]
  },
  {
   "cell_type": "code",
   "execution_count": null,
   "metadata": {},
   "outputs": [],
   "source": [
    "# MAVELP_DATA_PATH must be set for this gui module to import correctly.\n",
    "# When installed on nanoHUB this should be set by tghe invoke script.\n",
    "# If testing in the Jupyter notebook Tool, something like the following should be un-commented.\n",
    "# (edit \"BIN\" to desired location)\n",
    "#HOME=%env HOME\n",
    "#BIN='/devel/VELP/bin'\n",
    "#datapath = HOME + BIN + '/data/data.dat'\n",
    "#%env MAVELP_DATA_PATH = $datapath\n",
    "\n",
    "from mavelp.gui import *\n",
    "%matplotlib inline\n",
    "\n",
    "tablist = ['Material Selection', 'Method Selection', 'Design', 'About']\n",
    "Materails = ['BPY', 'TF']\n",
    "tab = widgets.Tab()\n",
    "a = tabs(tablist,Materails,tab)\n",
    "\n",
    "md = \"\"\"\n",
    "## MA-VELP: Machine-Learning Assisted Virtual Exfoliation via Liquid Phase\n",
    "Based on the dataset obtained from high-throughput computational study, MAVELP employs machine learning \n",
    "algorithms to screen for an optimal solvent based on the user's material selection for exfoliation process \n",
    "via liquid phase.  \n",
    "Currently, MAVELP uses the free energy barrier as the selection criterion. \n",
    "MAVELP was developed at University of Illinois at Urbana-Champaign under the Nano-Manufacturing Group in \n",
    "order to push the boundaries of exfoliation process solvent design!\n",
    "\n",
    "### Contact us\n",
    "[Report a bug](https://github.com/nanoMFG/VELP/issues/new?assignees=&labels=bug&template=bug_report.md&title= target=)  \n",
    "[Request a feature]()  \n",
    "\n",
    "For further assistance contact: moradza2@illinois.edu  \n",
    "Developers: Alireza Moradzadeh, Darren Adams, and Narayana R. Aluru\n",
    "\"\"\"\n",
    "tab.children = [\n",
    "            a.generate_materials(),\n",
    "            a.generate_method(),\n",
    "            a.generate_design(),\n",
    "            HTML(markdown.markdown(md)),\n",
    "            ]\n",
    "for cnt, name in enumerate(tablist):\n",
    "    tab.set_title(cnt, name)\n",
    "        \n",
    "display(tab)\n",
    "    "
   ]
  },
  {
   "cell_type": "code",
   "execution_count": null,
   "metadata": {},
   "outputs": [],
   "source": []
  }
 ],
 "metadata": {
  "kernelspec": {
   "display_name": "Python 3",
   "language": "python",
   "name": "python3"
  },
  "language_info": {
   "codemirror_mode": {
    "name": "ipython",
    "version": 3
   },
   "file_extension": ".py",
   "mimetype": "text/x-python",
   "name": "python",
   "nbconvert_exporter": "python",
   "pygments_lexer": "ipython3",
   "version": "3.7.7"
  }
 },
 "nbformat": 4,
 "nbformat_minor": 2
}
