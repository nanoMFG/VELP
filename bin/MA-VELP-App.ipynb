{
 "cells": [
  {
   "cell_type": "code",
   "execution_count": null,
   "metadata": {},
   "outputs": [],
   "source": [
    "# MAVELP_DATA_PATH must be set for this gui module to import correctly.\n",
    "# When installed on nanoHUB this should be set by tghe invoke script.\n",
    "# If testing in the Jupyter notebook Tool, something like the following should be un-commented.\n",
    "# (edit \"BIN\" to desired location)\n",
    "#HOME=%env HOME\n",
    "#BIN='/devel/VELP/bin'\n",
    "#datapath = HOME + BIN + '/data/data.dat'\n",
    "#%env MAVELP_DATA_PATH = $datapath\n",
    "\n",
    "from mavelp.gui import *\n",
    "%matplotlib inline\n",
    "\n",
    "a=  tabs()"
   ]
  }
 ],
 "metadata": {
  "kernelspec": {
   "display_name": "Python 3",
   "language": "python",
   "name": "python3"
  },
  "language_info": {
   "codemirror_mode": {
    "name": "ipython",
    "version": 3
   },
   "file_extension": ".py",
   "mimetype": "text/x-python",
   "name": "python",
   "nbconvert_exporter": "python",
   "pygments_lexer": "ipython3",
   "version": "3.7.7"
  }
 },
 "nbformat": 4,
 "nbformat_minor": 2
}
